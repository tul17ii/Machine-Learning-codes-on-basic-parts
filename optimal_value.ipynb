{
  "nbformat": 4,
  "nbformat_minor": 0,
  "metadata": {
    "colab": {
      "provenance": [],
      "authorship_tag": "ABX9TyMVZosgUN7260Bmg+Aze86c",
      "include_colab_link": true
    },
    "kernelspec": {
      "name": "python3",
      "display_name": "Python 3"
    },
    "language_info": {
      "name": "python"
    }
  },
  "cells": [
    {
      "cell_type": "markdown",
      "metadata": {
        "id": "view-in-github",
        "colab_type": "text"
      },
      "source": [
        "<a href=\"https://colab.research.google.com/github/tul17ii/Machine-Learning-codes-on-basic-parts/blob/main/optimal_value.ipynb\" target=\"_parent\"><img src=\"https://colab.research.google.com/assets/colab-badge.svg\" alt=\"Open In Colab\"/></a>"
      ]
    },
    {
      "cell_type": "code",
      "source": [
        "def alpha_beta(depth, is_maximizing, values, alpha, beta):\n",
        "    if depth == 0:\n",
        "        return values[0]\n",
        "\n",
        "    if is_maximizing:\n",
        "        best = float('-inf')\n",
        "        for value in values:\n",
        "            best = max(best, value)\n",
        "            alpha = max(alpha, best)\n",
        "            if beta <= alpha:  # Pr\n",
        "                break\n",
        "        return best\n",
        "    else:\n",
        "        best = float('inf')\n",
        "        for value in values:\n",
        "            best = min(best, value)\n",
        "            beta = min(beta, best)\n",
        "            if beta <= alpha:  # Pr\n",
        "                break\n",
        "        return best\n",
        "\n",
        "# Example\n",
        "values = [2, 0.8, 1, 2, 2.5, 8, 10, 50]\n",
        "print(\"Optimal value:\", alpha_beta(3, True, values, float('-inf'), float('inf')))"
      ],
      "metadata": {
        "colab": {
          "base_uri": "https://localhost:8080/"
        },
        "id": "4LXz4YqZD4lE",
        "outputId": "66dd5285-a4a2-43b6-d127-3ca40a30132d"
      },
      "execution_count": null,
      "outputs": [
        {
          "output_type": "stream",
          "name": "stdout",
          "text": [
            "Optimal value: 50\n"
          ]
        }
      ]
    }
  ]
}